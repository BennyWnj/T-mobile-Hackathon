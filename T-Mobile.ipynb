{
 "cells": [
  {
   "cell_type": "code",
   "execution_count": 1,
   "metadata": {},
   "outputs": [],
   "source": [
    "import numpy as np\n",
    "import pandas as pd\n",
    "import os\n",
    "os.environ['KMP_DUPLICATE_LIB_OK']='True'"
   ]
  },
  {
   "cell_type": "markdown",
   "metadata": {},
   "source": [
    "## Acquire Data"
   ]
  },
  {
   "cell_type": "code",
   "execution_count": 2,
   "metadata": {},
   "outputs": [],
   "source": [
    "sf_df = pd.read_csv('./input/existing-commercial-wireless-telecommunication-services-facilities-in-san-francisco.csv')"
   ]
  },
  {
   "cell_type": "markdown",
   "metadata": {},
   "source": [
    "## Analyze Data"
   ]
  },
  {
   "cell_type": "code",
   "execution_count": 3,
   "metadata": {},
   "outputs": [
    {
     "data": {
      "text/plain": [
       "Index(['Carrier', 'ID ', 'Search Ring Name ID', 'Block', 'Lot',\n",
       "       'Zoning District', 'Hight and Bulk District', 'Type of Building',\n",
       "       'Preference (1-7)', 'Type of Consumer Services',\n",
       "       'Type of Consumer Products', 'Number of Antennas', 'Location of BTS',\n",
       "       'Type of Technology', 'Radio Frequency Range (Megahertz)',\n",
       "       'Power Output of Equipment (Watts)', 'Height to Top of Antenna',\n",
       "       'Name of Community Liason', 'Phone Number of Community Liason',\n",
       "       'Comments', 'Location 1'],\n",
       "      dtype='object')"
      ]
     },
     "execution_count": 3,
     "metadata": {},
     "output_type": "execute_result"
    }
   ],
   "source": [
    "# sf_df.head(3)\n",
    "sf_df.columns\n",
    "# sf_df.tail()\n",
    "# sf_df.columns\n",
    "# sf_df['Location']"
   ]
  },
  {
   "cell_type": "code",
   "execution_count": 4,
   "metadata": {},
   "outputs": [
    {
     "name": "stdout",
     "output_type": "stream",
     "text": [
      "['Basement', 'Ground Fl ', 'Roof', 'Interior', 'Lower Roof', 'oDAS', 'basement', '6th fl ', 'Basement.', '2nd fl', 'Garage', '2nd Fl, telco rm', 'First fl', '2nd fl balcony -lower roof', 'Roof ', 'Basement & Roof', nan, 'Equip Rm', 'Lower Garage', '6th fl', 'Central Office', 'Pole', 'Penthouse Interior', 'Ground Floor', 'Tenant Improvement', 'Ground', 'In parking garage', 'In bldg on 4th floor', 'Parking Garage', 'Building', 'TBD', 'Indoor', 'Ground, Outdoor', '2nd Level', 'Bell Tower', 'pole', 'Internal', 'Penthouse', 'Shelter', 'Ground ', 'Rooftop', 'Outdoors', 'Steeple', 'indoor', 'roof', 'Indoor ', 'Third Level', 'Ground Level', 'Inside Penthouse', 'Lower roof', 'Rooftop Penthouse', 'Garage Roof']\n"
     ]
    }
   ],
   "source": [
    "sf_df.columns\n",
    "service = sf_df['Location of BTS']\n",
    "\n",
    "dic = {}\n",
    "for data in service:\n",
    "    if data not in dic:\n",
    "        dic[data] = 1\n",
    "    else:\n",
    "        dic[data] += 1\n",
    "\n",
    "print (list(dic.keys()))"
   ]
  },
  {
   "cell_type": "markdown",
   "metadata": {},
   "source": [
    "## Generate New Column"
   ]
  },
  {
   "cell_type": "code",
   "execution_count": 5,
   "metadata": {},
   "outputs": [],
   "source": [
    "Basement = ['Basement', 'basement', 'Basement.', 'Basement & Roof']\n",
    "Low = ['Ground Fl ', '2nd fl', 'First fl', '2nd Fl, telco rm', \n",
    "        'Ground Floor', 'Ground','Ground, Outdoor', \n",
    "       '2nd Level', 'Ground ', 'Ground Level']\n",
    "\n",
    "Indoor = Basement + Low + ['Interior', '6th fl ', 'Equip Rm', 'Central Office','Penthouse Interior', \n",
    "                           'Tenant Improvement', 'In parking garage', 'In bldg on 4th floor', 'Parking Garage', 'Building',\n",
    "                          'Indoor', 'Internal', 'Penthouse', 'Shelter', 'indoor', 'Indoor ', 'Third Level', 'Inside Penthouse']\n",
    "\n",
    "Top = ['Roof', 'Lower Roof', '2nd fl balcony -lower roof', 'Basement & Roof','Pole', 'Bell Tower', 'pole', \n",
    "       'Rooftop', 'Steeple', 'roof', 'Lower roof','Rooftop Penthouse', 'Garage Roof']\n",
    "\n",
    "Outside = ['oDAS', 'TBD', 'Outdoors']\n",
    "\n"
   ]
  },
  {
   "cell_type": "code",
   "execution_count": 6,
   "metadata": {},
   "outputs": [],
   "source": [
    "ind = []\n",
    "top = []\n",
    "out = []\n",
    "loc = sf_df['Location of BTS']\n",
    "for i in range(loc.size):\n",
    "    if str(loc[i]) in Indoor:\n",
    "        ind.append(1.0)\n",
    "    else:\n",
    "        ind.append(0.0)\n",
    "    if str(loc[i]) in Top:\n",
    "        top.append(1.0)\n",
    "    else:\n",
    "        top.append(0.0)\n",
    "    if str(loc[i]) in Outside:\n",
    "        out.append(1.0)\n",
    "    else:\n",
    "        out.append(0.0)\n",
    "\n",
    "pdind = pd.Series(ind)\n",
    "pdtop = pd.Series(top)\n",
    "pdout = pd.Series(out)\n",
    "\n",
    "sf_df['INDBTS'] = pdind\n",
    "sf_df['TOPBTS'] = pdtop\n",
    "sf_df['OUTBTS'] = pdout"
   ]
  },
  {
   "cell_type": "code",
   "execution_count": 7,
   "metadata": {},
   "outputs": [],
   "source": [
    "# sf_df.to_csv('./temp1.csv', index=False)"
   ]
  },
  {
   "cell_type": "code",
   "execution_count": 8,
   "metadata": {},
   "outputs": [
    {
     "data": {
      "text/plain": [
       "Index(['Carrier', 'ID ', 'Search Ring Name ID', 'Block', 'Lot',\n",
       "       'Zoning District', 'Hight and Bulk District', 'Type of Building',\n",
       "       'Preference (1-7)', 'Type of Consumer Services',\n",
       "       'Type of Consumer Products', 'Number of Antennas', 'Location of BTS',\n",
       "       'Type of Technology', 'Radio Frequency Range (Megahertz)',\n",
       "       'Power Output of Equipment (Watts)', 'Height to Top of Antenna',\n",
       "       'Name of Community Liason', 'Phone Number of Community Liason',\n",
       "       'Comments', 'Location 1', 'INDBTS', 'TOPBTS', 'OUTBTS'],\n",
       "      dtype='object')"
      ]
     },
     "execution_count": 8,
     "metadata": {},
     "output_type": "execute_result"
    }
   ],
   "source": [
    "sf_df.columns"
   ]
  },
  {
   "cell_type": "code",
   "execution_count": 9,
   "metadata": {},
   "outputs": [
    {
     "name": "stdout",
     "output_type": "stream",
     "text": [
      "{'voice, video & data': 259, 'Voice, Data, High Speed Data': 313, 'Voice/Data, High Speed Data': 1, 'Voice/Data': 12, 'Voice, High Speed Data': 220, 'Wireless Broadband Internet, Voice & Data Transmissions': 23, 'voice, video, data': 316, nan: 1, 'Voice & Data Transmissions': 108}\n"
     ]
    }
   ],
   "source": [
    "service = sf_df['Type of Consumer Services']\n",
    "\n",
    "dic = {}\n",
    "for data in service:\n",
    "    if data not in dic:\n",
    "        dic[data] = 1\n",
    "    else:\n",
    "        dic[data] += 1\n",
    "\n",
    "print (dic)"
   ]
  },
  {
   "cell_type": "code",
   "execution_count": 10,
   "metadata": {},
   "outputs": [],
   "source": [
    "temp = pd.read_csv('./input/result.csv')"
   ]
  },
  {
   "cell_type": "code",
   "execution_count": 11,
   "metadata": {},
   "outputs": [
    {
     "data": {
      "text/plain": [
       "Index(['Unnamed: 0', 'Carrier', 'voice', 'data', 'high speed', 'wireless',\n",
       "       'video', 'Comercial', 'Residencial', 'Public', 'Office', 'Industrial',\n",
       "       'General', 'PCS', 'AWS', 'GHz', '1900', '2100', '700', '2496', 'INDBTS',\n",
       "       'TOPBTS', 'OUTBTS'],\n",
       "      dtype='object')"
      ]
     },
     "execution_count": 11,
     "metadata": {},
     "output_type": "execute_result"
    }
   ],
   "source": [
    "temp.columns"
   ]
  },
  {
   "cell_type": "markdown",
   "metadata": {},
   "source": [
    "## Model and Train "
   ]
  },
  {
   "cell_type": "code",
   "execution_count": 12,
   "metadata": {},
   "outputs": [],
   "source": [
    "solution = pd.read_csv('./input/result.csv')"
   ]
  },
  {
   "cell_type": "code",
   "execution_count": 13,
   "metadata": {},
   "outputs": [],
   "source": [
    "solution.drop(['Unnamed: 0'], axis=1, inplace=True)"
   ]
  },
  {
   "cell_type": "code",
   "execution_count": 14,
   "metadata": {},
   "outputs": [],
   "source": [
    "from sklearn.model_selection import train_test_split\n",
    "X_train, X_test, Y_train, Y_test = train_test_split(solution.iloc[:, 1:], solution.iloc[:, 0], test_size=0.2, random_state=42)"
   ]
  },
  {
   "cell_type": "code",
   "execution_count": 15,
   "metadata": {},
   "outputs": [
    {
     "data": {
      "text/plain": [
       "count    251.000000\n",
       "mean       0.219124\n",
       "std        0.414479\n",
       "min        0.000000\n",
       "25%        0.000000\n",
       "50%        0.000000\n",
       "75%        0.000000\n",
       "max        1.000000\n",
       "Name: Carrier, dtype: float64"
      ]
     },
     "execution_count": 15,
     "metadata": {},
     "output_type": "execute_result"
    }
   ],
   "source": [
    "Y_test.describe()"
   ]
  },
  {
   "cell_type": "code",
   "execution_count": 16,
   "metadata": {},
   "outputs": [],
   "source": [
    "from sklearn.linear_model import LogisticRegression\n",
    "from sklearn.svm import SVC, LinearSVC\n",
    "from sklearn.ensemble import RandomForestClassifier\n",
    "from sklearn.neighbors import KNeighborsClassifier\n",
    "from sklearn.naive_bayes import GaussianNB\n",
    "from sklearn.linear_model import Perceptron\n",
    "from sklearn.linear_model import SGDClassifier\n",
    "from sklearn.tree import DecisionTreeClassifier"
   ]
  },
  {
   "cell_type": "code",
   "execution_count": 17,
   "metadata": {},
   "outputs": [
    {
     "data": {
      "text/plain": [
       "100.0"
      ]
     },
     "execution_count": 17,
     "metadata": {},
     "output_type": "execute_result"
    }
   ],
   "source": [
    "random_forest = RandomForestClassifier(n_estimators=100)\n",
    "random_forest.fit(X_train, Y_train)\n",
    "Y_pred = random_forest.predict(X_test)\n",
    "random_forest.score(X_train, Y_train)\n",
    "acc_random_forest = round(random_forest.score(X_train, Y_train) * 100, 2)\n",
    "acc_random_forest"
   ]
  },
  {
   "cell_type": "code",
   "execution_count": 18,
   "metadata": {},
   "outputs": [
    {
     "data": {
      "text/plain": [
       "100.0"
      ]
     },
     "execution_count": 18,
     "metadata": {},
     "output_type": "execute_result"
    }
   ],
   "source": [
    "decision_tree = DecisionTreeClassifier()\n",
    "decision_tree.fit(X_train, Y_train)\n",
    "Y_pred = decision_tree.predict(X_test)\n",
    "acc_decision_tree = round(decision_tree.score(X_train, Y_train) * 100, 2)\n",
    "acc_decision_tree"
   ]
  },
  {
   "cell_type": "code",
   "execution_count": 19,
   "metadata": {},
   "outputs": [
    {
     "data": {
      "text/plain": [
       "100.0"
      ]
     },
     "execution_count": 19,
     "metadata": {},
     "output_type": "execute_result"
    }
   ],
   "source": [
    "linear_svc = LinearSVC()\n",
    "linear_svc.fit(X_train, Y_train)\n",
    "Y_pred = linear_svc.predict(X_test)\n",
    "acc_linear_svc = round(linear_svc.score(X_train, Y_train) * 100, 2)\n",
    "acc_linear_svc"
   ]
  },
  {
   "cell_type": "code",
   "execution_count": 20,
   "metadata": {},
   "outputs": [
    {
     "name": "stderr",
     "output_type": "stream",
     "text": [
      "Using TensorFlow backend.\n"
     ]
    },
    {
     "name": "stdout",
     "output_type": "stream",
     "text": [
      "Epoch 1/50\n",
      "1002/1002 [==============================] - 1s 674us/step - loss: 0.3653 - acc: 0.8503\n",
      "Epoch 2/50\n",
      "1002/1002 [==============================] - 0s 151us/step - loss: 0.0780 - acc: 0.9860\n",
      "Epoch 3/50\n",
      "1002/1002 [==============================] - 0s 155us/step - loss: 0.0432 - acc: 0.9930\n",
      "Epoch 4/50\n",
      "1002/1002 [==============================] - 0s 152us/step - loss: 0.0297 - acc: 0.9930\n",
      "Epoch 5/50\n",
      "1002/1002 [==============================] - 0s 158us/step - loss: 0.0430 - acc: 0.9940\n",
      "Epoch 6/50\n",
      "1002/1002 [==============================] - 0s 169us/step - loss: 0.0195 - acc: 0.9980\n",
      "Epoch 7/50\n",
      "1002/1002 [==============================] - 0s 167us/step - loss: 0.0166 - acc: 0.9980\n",
      "Epoch 8/50\n",
      "1002/1002 [==============================] - 0s 151us/step - loss: 0.0123 - acc: 0.9980\n",
      "Epoch 9/50\n",
      "1002/1002 [==============================] - 0s 157us/step - loss: 0.0172 - acc: 0.9970\n",
      "Epoch 10/50\n",
      "1002/1002 [==============================] - 0s 159us/step - loss: 0.0118 - acc: 0.9990\n",
      "Epoch 11/50\n",
      "1002/1002 [==============================] - 0s 160us/step - loss: 0.0188 - acc: 0.9970\n",
      "Epoch 12/50\n",
      "1002/1002 [==============================] - 0s 161us/step - loss: 0.0106 - acc: 1.0000\n",
      "Epoch 13/50\n",
      "1002/1002 [==============================] - 0s 162us/step - loss: 0.0124 - acc: 0.9960\n",
      "Epoch 14/50\n",
      "1002/1002 [==============================] - 0s 152us/step - loss: 0.0133 - acc: 0.9960\n",
      "Epoch 15/50\n",
      "1002/1002 [==============================] - 0s 159us/step - loss: 0.0089 - acc: 0.9980\n",
      "Epoch 16/50\n",
      "1002/1002 [==============================] - 0s 171us/step - loss: 0.0058 - acc: 0.9990\n",
      "Epoch 17/50\n",
      "1002/1002 [==============================] - 0s 182us/step - loss: 0.0157 - acc: 0.9980\n",
      "Epoch 18/50\n",
      "1002/1002 [==============================] - 0s 156us/step - loss: 0.0070 - acc: 0.9980\n",
      "Epoch 19/50\n",
      "1002/1002 [==============================] - 0s 149us/step - loss: 0.0066 - acc: 0.9980\n",
      "Epoch 20/50\n",
      "1002/1002 [==============================] - 0s 167us/step - loss: 0.0065 - acc: 0.9990\n",
      "Epoch 21/50\n",
      "1002/1002 [==============================] - 0s 169us/step - loss: 0.0082 - acc: 0.9970\n",
      "Epoch 22/50\n",
      "1002/1002 [==============================] - 0s 167us/step - loss: 0.0051 - acc: 0.9990\n",
      "Epoch 23/50\n",
      "1002/1002 [==============================] - 0s 159us/step - loss: 0.0037 - acc: 1.0000\n",
      "Epoch 24/50\n",
      "1002/1002 [==============================] - 0s 149us/step - loss: 0.0031 - acc: 1.0000\n",
      "Epoch 25/50\n",
      "1002/1002 [==============================] - 0s 151us/step - loss: 0.0072 - acc: 0.9980\n",
      "Epoch 26/50\n",
      "1002/1002 [==============================] - 0s 153us/step - loss: 0.0034 - acc: 0.9990\n",
      "Epoch 27/50\n",
      "1002/1002 [==============================] - 0s 158us/step - loss: 0.0053 - acc: 0.9980\n",
      "Epoch 28/50\n",
      "1002/1002 [==============================] - 0s 163us/step - loss: 0.0027 - acc: 1.0000\n",
      "Epoch 29/50\n",
      "1002/1002 [==============================] - 0s 151us/step - loss: 0.0026 - acc: 1.0000\n",
      "Epoch 30/50\n",
      "1002/1002 [==============================] - 0s 149us/step - loss: 0.0061 - acc: 0.9990\n",
      "Epoch 31/50\n",
      "1002/1002 [==============================] - 0s 150us/step - loss: 0.0031 - acc: 1.0000\n",
      "Epoch 32/50\n",
      "1002/1002 [==============================] - 0s 151us/step - loss: 0.0015 - acc: 1.0000\n",
      "Epoch 33/50\n",
      "1002/1002 [==============================] - 0s 149us/step - loss: 0.0050 - acc: 0.9990\n",
      "Epoch 34/50\n",
      "1002/1002 [==============================] - 0s 150us/step - loss: 0.0027 - acc: 1.0000\n",
      "Epoch 35/50\n",
      "1002/1002 [==============================] - 0s 164us/step - loss: 0.0040 - acc: 1.0000\n",
      "Epoch 36/50\n",
      "1002/1002 [==============================] - 0s 153us/step - loss: 0.0052 - acc: 0.9990\n",
      "Epoch 37/50\n",
      "1002/1002 [==============================] - 0s 156us/step - loss: 0.0025 - acc: 1.0000\n",
      "Epoch 38/50\n",
      "1002/1002 [==============================] - 0s 154us/step - loss: 0.0021 - acc: 1.0000\n",
      "Epoch 39/50\n",
      "1002/1002 [==============================] - 0s 155us/step - loss: 0.0072 - acc: 0.9980\n",
      "Epoch 40/50\n",
      "1002/1002 [==============================] - 0s 148us/step - loss: 0.0028 - acc: 1.0000\n",
      "Epoch 41/50\n",
      "1002/1002 [==============================] - 0s 157us/step - loss: 0.0195 - acc: 0.9990\n",
      "Epoch 42/50\n",
      "1002/1002 [==============================] - 0s 154us/step - loss: 0.0028 - acc: 1.0000\n",
      "Epoch 43/50\n",
      "1002/1002 [==============================] - 0s 149us/step - loss: 0.0024 - acc: 1.0000\n",
      "Epoch 44/50\n",
      "1002/1002 [==============================] - 0s 165us/step - loss: 0.0036 - acc: 1.0000\n",
      "Epoch 45/50\n",
      "1002/1002 [==============================] - 0s 164us/step - loss: 0.0034 - acc: 0.9990\n",
      "Epoch 46/50\n",
      "1002/1002 [==============================] - 0s 153us/step - loss: 0.0040 - acc: 0.9990\n",
      "Epoch 47/50\n",
      "1002/1002 [==============================] - 0s 154us/step - loss: 0.0060 - acc: 0.9970\n",
      "Epoch 48/50\n",
      "1002/1002 [==============================] - 0s 153us/step - loss: 0.0182 - acc: 0.9990\n",
      "Epoch 49/50\n",
      "1002/1002 [==============================] - 0s 151us/step - loss: 0.0022 - acc: 1.0000\n",
      "Epoch 50/50\n",
      "1002/1002 [==============================] - 0s 161us/step - loss: 0.0025 - acc: 1.0000\n"
     ]
    }
   ],
   "source": [
    "import keras\n",
    "from keras.models import Sequential\n",
    "from keras.layers import Dense, Dropout\n",
    "from keras.optimizers import SGD\n",
    "\n",
    "from sklearn.preprocessing import LabelEncoder\n",
    "from sklearn.preprocessing import StandardScaler\n",
    "\n",
    "sc = StandardScaler()\n",
    "X_train = sc.fit_transform(X_train)\n",
    "X_test = sc.fit_transform(X_test)\n",
    "\n",
    "seed = 7\n",
    "np.random.seed(seed)\n",
    "\n",
    "mymodel = Sequential()\n",
    "\n",
    "mymodel.add(Dense(25, activation='relu', input_dim = 21))\n",
    "mymodel.add(Dropout(0.5))\n",
    "\n",
    "mymodel.add(Dense(1, activation='sigmoid'))\n",
    "\n",
    "optimizer = SGD(lr = 0.01, momentum=0.9)\n",
    "\n",
    "mymodel.compile(optimizer=optimizer, loss='binary_crossentropy', metrics=['accuracy'])\n",
    "\n",
    "mymodel.fit(X_train, Y_train, batch_size=10, epochs=50)\n",
    "\n",
    "y_pred = mymodel.predict(X_test)\n",
    "y_pred = np.round_(y_pred, 0)"
   ]
  },
  {
   "cell_type": "code",
   "execution_count": null,
   "metadata": {},
   "outputs": [],
   "source": []
  }
 ],
 "metadata": {
  "kernelspec": {
   "display_name": "Python 3",
   "language": "python",
   "name": "python3"
  },
  "language_info": {
   "codemirror_mode": {
    "name": "ipython",
    "version": 3
   },
   "file_extension": ".py",
   "mimetype": "text/x-python",
   "name": "python",
   "nbconvert_exporter": "python",
   "pygments_lexer": "ipython3",
   "version": "3.6.8"
  }
 },
 "nbformat": 4,
 "nbformat_minor": 2
}
